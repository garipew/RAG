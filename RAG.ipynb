{
 "cells": [
  {
   "cell_type": "code",
   "execution_count": 1,
   "id": "34df31ac-f604-47a8-8b12-2a7e6ebbe6f5",
   "metadata": {},
   "outputs": [],
   "source": [
    "# Instalar o colab-xterm para acesso ao terminal via notebook\n",
    "!pip install -q colab-xterm\n",
    "%load_ext colabxterm"
   ]
  },
  {
   "cell_type": "code",
   "execution_count": 7,
   "id": "4ea19788-9dcd-4ac0-9c9d-1a1ed6f5b524",
   "metadata": {},
   "outputs": [
    {
     "data": {
      "text/plain": [
       "Launching Xterm..."
      ]
     },
     "metadata": {},
     "output_type": "display_data"
    },
    {
     "data": {
      "text/html": [
       "\n",
       "      <iframe id=\"xterm-frame-b153ac1855fe653c\" width=\"100%\" height=\"800\" frameborder=\"0\">\n",
       "      </iframe>\n",
       "      <script>\n",
       "        (function() {\n",
       "          const frame = document.getElementById(\"xterm-frame-b153ac1855fe653c\");\n",
       "          const url = new URL(\"/\", window.location);\n",
       "          const port = 10000;\n",
       "          if (port) {\n",
       "            url.port = port;\n",
       "          }\n",
       "          frame.src = url;\n",
       "        })();\n",
       "      </script>\n",
       "    "
      ],
      "text/plain": [
       "<IPython.core.display.HTML object>"
      ]
     },
     "metadata": {},
     "output_type": "display_data"
    }
   ],
   "source": [
    "# Instalar ollama com\n",
    "# curl -fsSL https://ollama.com/install.sh | sh\n",
    "# ollama pull llama2\n",
    "%xterm"
   ]
  },
  {
   "cell_type": "code",
   "execution_count": 2,
   "id": "80e29039-a407-441b-a5eb-c4ddc3f147f4",
   "metadata": {},
   "outputs": [
    {
     "name": "stdout",
     "output_type": "stream",
     "text": [
      "Collecting langchain-ollama\n",
      "  Downloading langchain_ollama-0.3.3-py3-none-any.whl (21 kB)\n",
      "Collecting ollama<1.0.0,>=0.4.8\n",
      "  Downloading ollama-0.5.1-py3-none-any.whl (13 kB)\n",
      "Requirement already satisfied: langchain-core<1.0.0,>=0.3.60 in ./env/lib/python3.11/site-packages (from langchain-ollama) (0.3.65)\n",
      "Requirement already satisfied: langsmith<0.4,>=0.3.45 in ./env/lib/python3.11/site-packages (from langchain-core<1.0.0,>=0.3.60->langchain-ollama) (0.3.45)\n",
      "Requirement already satisfied: tenacity!=8.4.0,<10.0.0,>=8.1.0 in ./env/lib/python3.11/site-packages (from langchain-core<1.0.0,>=0.3.60->langchain-ollama) (9.1.2)\n",
      "Requirement already satisfied: jsonpatch<2.0,>=1.33 in ./env/lib/python3.11/site-packages (from langchain-core<1.0.0,>=0.3.60->langchain-ollama) (1.33)\n",
      "Requirement already satisfied: PyYAML>=5.3 in ./env/lib/python3.11/site-packages (from langchain-core<1.0.0,>=0.3.60->langchain-ollama) (6.0.2)\n",
      "Requirement already satisfied: packaging<25,>=23.2 in ./env/lib/python3.11/site-packages (from langchain-core<1.0.0,>=0.3.60->langchain-ollama) (24.2)\n",
      "Requirement already satisfied: typing-extensions>=4.7 in ./env/lib/python3.11/site-packages (from langchain-core<1.0.0,>=0.3.60->langchain-ollama) (4.14.0)\n",
      "Requirement already satisfied: pydantic>=2.7.4 in ./env/lib/python3.11/site-packages (from langchain-core<1.0.0,>=0.3.60->langchain-ollama) (2.11.7)\n",
      "Requirement already satisfied: httpx>=0.27 in ./env/lib/python3.11/site-packages (from ollama<1.0.0,>=0.4.8->langchain-ollama) (0.28.1)\n",
      "Requirement already satisfied: anyio in ./env/lib/python3.11/site-packages (from httpx>=0.27->ollama<1.0.0,>=0.4.8->langchain-ollama) (4.9.0)\n",
      "Requirement already satisfied: certifi in ./env/lib/python3.11/site-packages (from httpx>=0.27->ollama<1.0.0,>=0.4.8->langchain-ollama) (2025.6.15)\n",
      "Requirement already satisfied: httpcore==1.* in ./env/lib/python3.11/site-packages (from httpx>=0.27->ollama<1.0.0,>=0.4.8->langchain-ollama) (1.0.9)\n",
      "Requirement already satisfied: idna in ./env/lib/python3.11/site-packages (from httpx>=0.27->ollama<1.0.0,>=0.4.8->langchain-ollama) (3.10)\n",
      "Requirement already satisfied: h11>=0.16 in ./env/lib/python3.11/site-packages (from httpcore==1.*->httpx>=0.27->ollama<1.0.0,>=0.4.8->langchain-ollama) (0.16.0)\n",
      "Requirement already satisfied: jsonpointer>=1.9 in ./env/lib/python3.11/site-packages (from jsonpatch<2.0,>=1.33->langchain-core<1.0.0,>=0.3.60->langchain-ollama) (3.0.0)\n",
      "Requirement already satisfied: orjson<4.0.0,>=3.9.14 in ./env/lib/python3.11/site-packages (from langsmith<0.4,>=0.3.45->langchain-core<1.0.0,>=0.3.60->langchain-ollama) (3.10.18)\n",
      "Requirement already satisfied: requests<3,>=2 in ./env/lib/python3.11/site-packages (from langsmith<0.4,>=0.3.45->langchain-core<1.0.0,>=0.3.60->langchain-ollama) (2.32.4)\n",
      "Requirement already satisfied: requests-toolbelt<2.0.0,>=1.0.0 in ./env/lib/python3.11/site-packages (from langsmith<0.4,>=0.3.45->langchain-core<1.0.0,>=0.3.60->langchain-ollama) (1.0.0)\n",
      "Requirement already satisfied: zstandard<0.24.0,>=0.23.0 in ./env/lib/python3.11/site-packages (from langsmith<0.4,>=0.3.45->langchain-core<1.0.0,>=0.3.60->langchain-ollama) (0.23.0)\n",
      "Requirement already satisfied: annotated-types>=0.6.0 in ./env/lib/python3.11/site-packages (from pydantic>=2.7.4->langchain-core<1.0.0,>=0.3.60->langchain-ollama) (0.7.0)\n",
      "Requirement already satisfied: pydantic-core==2.33.2 in ./env/lib/python3.11/site-packages (from pydantic>=2.7.4->langchain-core<1.0.0,>=0.3.60->langchain-ollama) (2.33.2)\n",
      "Requirement already satisfied: typing-inspection>=0.4.0 in ./env/lib/python3.11/site-packages (from pydantic>=2.7.4->langchain-core<1.0.0,>=0.3.60->langchain-ollama) (0.4.1)\n",
      "Requirement already satisfied: charset_normalizer<4,>=2 in ./env/lib/python3.11/site-packages (from requests<3,>=2->langsmith<0.4,>=0.3.45->langchain-core<1.0.0,>=0.3.60->langchain-ollama) (3.4.2)\n",
      "Requirement already satisfied: urllib3<3,>=1.21.1 in ./env/lib/python3.11/site-packages (from requests<3,>=2->langsmith<0.4,>=0.3.45->langchain-core<1.0.0,>=0.3.60->langchain-ollama) (2.4.0)\n",
      "Requirement already satisfied: sniffio>=1.1 in ./env/lib/python3.11/site-packages (from anyio->httpx>=0.27->ollama<1.0.0,>=0.4.8->langchain-ollama) (1.3.1)\n",
      "Installing collected packages: ollama, langchain-ollama\n",
      "Successfully installed langchain-ollama-0.3.3 ollama-0.5.1\n"
     ]
    }
   ],
   "source": [
    "# Demais dependências para o processamento\n",
    "# de linguagem natural, gerenciamento de\n",
    "# embeddings e scraping de dados.\n",
    "!pip install -q langchain chromadb bs4\n",
    "!pip install -q langchain-community\n",
    "!pip install -U langchain-ollama"
   ]
  },
  {
   "cell_type": "code",
   "execution_count": 3,
   "id": "0ad64455-4d69-498d-82d0-55a976435960",
   "metadata": {},
   "outputs": [],
   "source": [
    "# Dependências para arquivo no mesmo folder\n",
    "!pip install -q langchain PyMuPDF"
   ]
  },
  {
   "cell_type": "code",
   "execution_count": 4,
   "id": "25fdd9b4-29e2-4533-a87a-e507a9000071",
   "metadata": {},
   "outputs": [],
   "source": [
    "filename = \"ISTOB - MAterial para certificação.pdf\""
   ]
  },
  {
   "cell_type": "code",
   "execution_count": 5,
   "id": "5c967c5e-d304-496c-9ab8-a3e857ded047",
   "metadata": {},
   "outputs": [],
   "source": [
    "# Abre arquivo\n",
    "from langchain.document_loaders import PyMuPDFLoader\n",
    "\n",
    "loader = PyMuPDFLoader(filename)\n",
    "documents = loader.load()"
   ]
  },
  {
   "cell_type": "code",
   "execution_count": 6,
   "id": "c2de3ef2-048c-4a1a-b651-43f141cf3c42",
   "metadata": {},
   "outputs": [
    {
     "name": "stdout",
     "output_type": "stream",
     "text": [
      "Arquivo dividido em 273 chunks\n"
     ]
    }
   ],
   "source": [
    "# Divide o conteúdo em chunks\n",
    "from langchain.text_splitter import RecursiveCharacterTextSplitter\n",
    "\n",
    "splitter = RecursiveCharacterTextSplitter(chunk_size=1000, chunk_overlap=200)\n",
    "chunks = splitter.split_documents(documents)\n",
    "\n",
    "print(f'Arquivo dividido em {len(chunks)} chunks')"
   ]
  },
  {
   "cell_type": "code",
   "execution_count": 8,
   "id": "e388738e-15ba-4eec-8ddd-fd1118fe315c",
   "metadata": {},
   "outputs": [],
   "source": [
    "!pip install -q tqdm"
   ]
  },
  {
   "cell_type": "code",
   "execution_count": 9,
   "id": "2dde6874-52f5-4db5-8053-24912b07f02d",
   "metadata": {},
   "outputs": [
    {
     "name": "stderr",
     "output_type": "stream",
     "text": [
      "/tmp/ipykernel_8967/394355359.py:10: LangChainDeprecationWarning: The class `Chroma` was deprecated in LangChain 0.2.9 and will be removed in 1.0. An updated version of the class exists in the :class:`~langchain-chroma package and should be used instead. To use it run `pip install -U :class:`~langchain-chroma` and import as `from :class:`~langchain_chroma import Chroma``.\n",
      "  vectorstore = Chroma(embedding_function=embeddings, persist_directory=\"chroma_db\")\n",
      "Gerando embeddings: 100%|███████████████████████████████████████████| 273/273 [49:57<00:00, 10.98s/it]\n"
     ]
    }
   ],
   "source": [
    "# Criação de embeddings\n",
    "from langchain_ollama import OllamaEmbeddings\n",
    "from langchain_community.vectorstores import Chroma\n",
    "from tqdm import tqdm\n",
    "\n",
    "# Inicialização\n",
    "embeddings = OllamaEmbeddings(model=\"llama2\")\n",
    "\n",
    "# Criação de vetor vazio\n",
    "vectorstore = Chroma(embedding_function=embeddings, persist_directory=\"chroma_db\")\n",
    "\n",
    "# Adiciona os chunks\n",
    "for chunk in tqdm(chunks, desc=\"Gerando embeddings\"):\n",
    "    vectorstore.add_documents([chunk])"
   ]
  },
  {
   "cell_type": "code",
   "execution_count": 10,
   "id": "89dd6c32-2a1c-4cac-b826-81e10c1ad3c9",
   "metadata": {},
   "outputs": [
    {
     "name": "stderr",
     "output_type": "stream",
     "text": [
      "/tmp/ipykernel_8967/3081704472.py:3: LangChainDeprecationWarning: The class `Ollama` was deprecated in LangChain 0.3.1 and will be removed in 1.0.0. An updated version of the class exists in the :class:`~langchain-ollama package and should be used instead. To use it run `pip install -U :class:`~langchain-ollama` and import as `from :class:`~langchain_ollama import OllamaLLM``.\n",
      "  llm = Ollama(model=\"llama2\")\n"
     ]
    }
   ],
   "source": [
    "from langchain.llms import Ollama\n",
    "\n",
    "llm = Ollama(model=\"llama2\")"
   ]
  },
  {
   "cell_type": "code",
   "execution_count": 22,
   "id": "f774a1c2-3bb1-4999-bd77-1859f355b878",
   "metadata": {},
   "outputs": [],
   "source": [
    "# Criar pipeline RAG\n",
    "from langchain.chains import RetrievalQA\n",
    "\n",
    "qa_chain = RetrievalQA.from_chain_type(llm=llm,\n",
    "                                       chain_type=\"stuff\",\n",
    "                                       retriever=vectorstore.as_retriever())"
   ]
  },
  {
   "cell_type": "code",
   "execution_count": 23,
   "id": "df593b59-9af1-4bec-af22-94294425be09",
   "metadata": {},
   "outputs": [],
   "source": [
    "# Consultas\n",
    "pergunta = \"Quais são as principais técnicas de teste? Responda em português brasileiro\""
   ]
  },
  {
   "cell_type": "code",
   "execution_count": 24,
   "id": "cf9b0c51-5d66-4c1a-ba93-c22164d357b6",
   "metadata": {},
   "outputs": [
    {
     "name": "stdout",
     "output_type": "stream",
     "text": [
      "Quais são as principais técnicas de teste? Responda em português brasileiro\n",
      "\n",
      " Existem várias técnicas de teste que podem ser utilizadas para avaliar a qualidade de um software. Aqui estão algumas das principais técnicas de teste:\n",
      "\n",
      "1. Testes unitários: são realizados individualmente para cada componente do software, com o objetivo de verificar se ele funciona corretamente sozinho.\n",
      "2. Testes de integração: são realizados após os testes unitários, para verificar se os componentes trabalham juntos corretamente.\n",
      "3. Testes de sistemas: são realizados para verificar se o software funciona corretamente no sistema de hospedagem e nos ambientes de produção.\n",
      "4. Testes de usabilidade: são realizados para avaliar se o software é fácil de usar e oferece uma boa experiência ao usuário.\n",
      "5. Testes de aceitação: são realizados com o objetivo de verificar se o software atende às necessidades dos clientes ou usuários.\n",
      "6. Testes de vulnerabilidade: são realizados para detectar possíveis vulnerabilidades de segurança no software.\n",
      "7. Testes de performance: são realizados para avaliar o desempenho do software em diferentes ambientes e condições de carga.\n",
      "8. Testes de acordo com as necessidades dos clientes: são realizados para avaliar se o software atende às necessidades específicas dos clientes ou usuários.\n",
      "9. Testes de acordo com as normas e padrões: são realizados para verificar se o software atende às normas e padrões de qualidade mínimos estabelecidos na indústria.\n",
      "10. Testes de automação: são utilizados para automatizar testes, reduzindo o tempo de execução e aumentando a eficiência do processo de teste.\n",
      "\n",
      "É importante lembrar que essas técnicas de teste não são mutuamente exclusivas, e podem ser combinadas de forma a melhor adaptar-se às necessidades específicas do projeto de software.\n"
     ]
    }
   ],
   "source": [
    "# Resposta sem RAG\n",
    "print(f'{pergunta}\\n{llm(pergunta)}')"
   ]
  },
  {
   "cell_type": "code",
   "execution_count": 25,
   "id": "3b8df491-83b6-49f9-8277-5caa01ac49de",
   "metadata": {},
   "outputs": [
    {
     "name": "stdout",
     "output_type": "stream",
     "text": [
      "Quais são as principais técnicas de teste? Responda em português brasileiro\n",
      "As principais técnicas de teste são:\n",
      "\n",
      "1. Teste antecipado: consiste em realizar testes durante a fase de desenvolvimento, para identificar defeitos e melhorar a qualidade do produto de forma anticipada.\n",
      "2. Teste de cobertura: consiste em testar todo o código e todas as funcionalidades do produto, para garantir que todos os requisitos sejam atendidos.\n",
      "3. Teste de critério: consiste em testar o produto com base em critérios específicos, como performance, segurança, etc.\n",
      "4. Teste de usabilidade: consiste em testar a facilidade de uso do produto e a experiência do usuário, para garantir que ele seja intuitivo e fácil de usar.\n",
      "5. Teste de automação: consiste em utilizar tecnologias de automação de testes para automatizar o teste de funcionamentos e outras tarefas de teste.\n",
      "6. Teste de manual: consiste em realizar testes manualmente, sem a ajuda de tecnologias de automação.\n",
      "7. Teste de combinação: consiste em combinar diferentes técnicas de teste para cobertura completa do produto e identificação de defeitos mais eficazmente.\n",
      "8. Teste de slice: consiste em testar uma pequena parte do produto, chamada slice, para identificar defeitos específicos ou para validar mudanças feitas no código.\n",
      "9. Teste de modelagem: consiste em utilizar modelos de teste para prever como o produto será usado e identificar possíveis defeitos antes mesmo de seu desenvolvimento.\n",
      "10. Teste de escuta: consiste em ouvir feedback dos usuários e identificar Possíveis problemas ou defeitos no produto.\n",
      "\n",
      "Essas são algumas das principais técnicas de teste utilizadas na área de software, mas existem muitas outras técnicas e métodos que podem ser utilizados com base nos requisitos do projeto e da cultura da organização.\n"
     ]
    }
   ],
   "source": [
    "# Resposta com o pipeline RAG\n",
    "print(f'{pergunta}\\n{qa_chain.run(pergunta)}')"
   ]
  },
  {
   "cell_type": "code",
   "execution_count": 26,
   "id": "a224e57e-b89d-42ca-8410-3378d773696e",
   "metadata": {},
   "outputs": [
    {
     "name": "stdout",
     "output_type": "stream",
     "text": [
      "Quais são as principais técnicas de teste? Responda em português brasileiro\n",
      "para responder à sua pergunta, irei basear-me nos points disponíveis no syllabus do ISTQB:\n",
      "\n",
      "1.5.3 Independência dos Testes: Todas as atividades de desenvolvimento devem estar sujeitas ao controle de qualidade.\n",
      "\n",
      "* Diferentes níveis de teste têm objetivos de teste específicos e diferentes, o que permite que os testes sejam adequadamente abrangentes, evitando redundância.\n",
      "* A análise e a modelagem do teste para um determinado nível de teste começam durante a fase de desenvolvimento correspondente do SDLC, para que o teste possa aderir ao princípio do teste antecipado.\n",
      "\n",
      "2.2.1 Testes diferentes: Os testes têm objetivos específicos e diferentes, dependendo do nível de teste e da etapa do desenvolvimento.\n",
      "\n",
      "* A abordagem de equipe completa pode ser adequada em situações, como críticas para a segurança, onde é necessário um alto nível de independência dos testes.\n",
      "\n",
      "2.1.5 Shift-left: A estratégia shift-left consiste em envolver os Testadores na revisão dos produtos de trabalho assim que os rascunhos dessa documentação estiverem disponíveis, para que o teste antecipado e a detecção de defeitos possam apoiar a estratégia de desenvolvimento.\n",
      "\n",
      "3.2.1 Feedback das revisões: Fornecer feedback das revisões aos stakeholders e aos autores para que eles possam melhorar o produto.\n",
      "\n",
      "3.2.2 Treinamento dos testadores: Fornecer treinamento adequado a todos os participantes para que eles saibam como desempenhar suas funções.\n",
      "\n",
      "3.2.3 Facilitação de reuniões: Apoiar as reuniões e garantir que todas as partes envolvidas estejam presentes e tenham oportunidades de interagir e compartilhar informações.\n",
      "\n",
      "3.2.4 Colaboração dentro da equipe: Os Testadores trabalham em estreita colaboração com outros membros da equipe para garantir que os níveis de qualidade desejados sejam alcançados.\n",
      "\n",
      "3.2.5 Tornar as revisões parte da cultura da organização: Fornecer treinamento e apoio às equipes para que elas possam desenvolver uma cultura de revisão e melhoria contínua.\n",
      "\n",
      "Em resumo, as principais técnicas de teste são:\n",
      "\n",
      "* Análise e modelagem do teste para um determinado nível de teste\n",
      "* Diferentes níveis de teste com objetivos específicos e diferentes\n",
      "* Abordagem de equipe completa em situações criticas, como críticas para a segurança\n",
      "* Shift-left, estratégia de envolvimento dos Testadores na revisão dos produtos de trabalho desde o início do desenvolvimento.\n"
     ]
    },
    {
     "name": "stderr",
     "output_type": "stream",
     "text": [
      "Traceback (most recent call last):\n",
      "  File \"<frozen runpy>\", line 198, in _run_module_as_main\n",
      "  File \"<frozen runpy>\", line 88, in _run_code\n",
      "  File \"/home/aiel/Documentos/faculdade/ia/RAG/env/lib/python3.11/site-packages/colabxterm/__main__.py\", line 14, in <module>\n",
      "    term.open()\n",
      "  File \"/home/aiel/Documentos/faculdade/ia/RAG/env/lib/python3.11/site-packages/colabxterm/xterm.py\", line 83, in open\n",
      "    tornado.ioloop.IOLoop.current().start()\n",
      "  File \"/home/aiel/Documentos/faculdade/ia/RAG/env/lib/python3.11/site-packages/tornado/platform/asyncio.py\", line 211, in start\n",
      "    self.asyncio_loop.run_forever()\n",
      "  File \"/usr/lib/python3.11/asyncio/base_events.py\", line 607, in run_forever\n",
      "    self._run_once()\n",
      "  File \"/usr/lib/python3.11/asyncio/base_events.py\", line 1884, in _run_once\n",
      "    event_list = self._selector.select(timeout)\n",
      "                 ^^^^^^^^^^^^^^^^^^^^^^^^^^^^^^\n",
      "  File \"/usr/lib/python3.11/selectors.py\", line 468, in select\n",
      "    fd_event_list = self._selector.poll(timeout, max_ev)\n",
      "                    ^^^^^^^^^^^^^^^^^^^^^^^^^^^^^^^^^^^^\n",
      "KeyboardInterrupt\n"
     ]
    }
   ],
   "source": [
    "# Criação de prompt personalizado\n",
    "from langchain.prompts import PromptTemplate\n",
    "from langchain.chains import RetrievalQA\n",
    "\n",
    "template = \"\"\"\n",
    "Você é um especialista em testes de software e foi delegado a tarefa de responder perguntas baseando-se no Syllabus do ISTOQB.\n",
    "\n",
    "Na construção de suas resposta, utilize **apenas o conteúdo disponível nos documentos a seguir**.\n",
    "\n",
    "Seja conciso, incluindo em sua resposta apenas os bullet points e uma referência à seção em que a informação se encontra.\n",
    "\n",
    "{context}\n",
    "\n",
    "Pergunta: {question}\n",
    "Resposta:\n",
    "\"\"\"\n",
    "\n",
    "prompt = PromptTemplate(input_variables=[\"context\", \"question\"],\n",
    "                        template=template,)\n",
    "qa_chain = RetrievalQA.from_chain_type(\n",
    "    llm=llm,\n",
    "    retriever=vectorstore.as_retriever(),\n",
    "    chain_type=\"stuff\",\n",
    "    chain_type_kwargs={\"prompt\":prompt},\n",
    ")\n",
    "\n",
    "resposta = qa_chain.invoke({\"query\":pergunta})\n",
    "print(f'{resposta[\"query\"]}\\n{resposta[\"result\"]}')"
   ]
  },
  {
   "cell_type": "markdown",
   "id": "00ca57a6-d9b3-4166-86e8-dc0196f99c5e",
   "metadata": {},
   "source": [
    "# RAG\n",
    "O RAG é uma técnica de consulta de LLMs a fim de adquirir resultados mais precisos.\n",
    "Com tal objetivo em mente, um prompt personalizado é construído. Esse prompt é feito de uma forma que inclui um contexto ao qual o modelo deve se basear na geração de sua resposta, por isso o nome: Retrival-Augmented Generation.\n",
    "\n",
    "Para repassar um contexto para um modelo já treinado, é preciso fazer um pré-processamento dele, transformando o contexto em uma linguagem que o modelo possa entender. Mas antes, o contexto é dividido em pedaços menores, **chunks**, para garantir uma maior precisão da recuperação, reduzindo as chances de uma informação ser obscurecida em um documento muito grande. Somente então é feito o **embedding**, onde os chunks do contexto passado são transformados em vetores de múltiplas dimensões. Estes vetores extraem o sentido geral de cada chunk e são eles que são repassados ao modelo para uma consulta.\n",
    "\n",
    "A utilização do RAG garante um maior alinhamento do modelo com o contexto passado. Esse alinhamento pode ser compreendido como uma maior precisão do modelo, visto que o contexto passado tende a conter todas as informações que o modelo precisará, em tal aplicação. Por esse motivo, RAGs fazem-se úteis em contextos onde é esperado do modelo um certo comprometimento com as informações a serem repassadas, como no caso de chatbots.\n",
    "\n",
    "A diferença entre os resultados obtidos nas consultas acima são nítidos. Os modelos são capazes de gerar respostas abstratas para qualquer pergunta feita, mas, com a utilização do RAG, a resposta gerada se aproxima do documento passado, não precisando gerar uma resposta vaga, a mesma pergunta passa a ter um diferente sentido devido ao contexto. "
   ]
  }
 ],
 "metadata": {
  "kernelspec": {
   "display_name": "Python 3 (ipykernel)",
   "language": "python",
   "name": "python3"
  },
  "language_info": {
   "codemirror_mode": {
    "name": "ipython",
    "version": 3
   },
   "file_extension": ".py",
   "mimetype": "text/x-python",
   "name": "python",
   "nbconvert_exporter": "python",
   "pygments_lexer": "ipython3",
   "version": "3.11.2"
  }
 },
 "nbformat": 4,
 "nbformat_minor": 5
}
